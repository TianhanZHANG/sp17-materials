{
 "cells": [
  {
   "cell_type": "markdown",
   "metadata": {},
   "source": [
    "# Homework 2: Language in the 2016 Presidential Election\n",
    "Popular figures often have help managing their media presence.  In the 2016 election, Twitter was an important communication medium for every major candidate.  Many Twitter posts posted by the top two candidates were actually written by their aides.  You might wonder how this affected the content or language of the tweets.\n",
    "\n",
    "In this assignment, we'll look at some of the patterns in tweets by the top two candidates, Clinton and Trump.  We'll start with Clinton.\n",
    "\n",
    "Along the way, you'll get a first look at Pandas.  Pandas is a Python package that provides a `DataFrame` data structure similar to the `datascience` package's `Table`, which you might remember from Data 8.  `DataFrame`s are a bit harder to use than `Table`s, but they provide more advanced functionality and are a standard tool for data analysis in Python."
   ]
  },
  {
   "cell_type": "markdown",
   "metadata": {},
   "source": [
    "Some of the analysis in this assignment is based on a [post by David Robinson](http://varianceexplained.org/r/trump-tweets/).  Feel free to read the post, but do not copy from it!  David's post is written in the `R` programming language, which is a favorite of many data analysts, especially academic statisticians.  Once you're done with your analysis, you may find it interesting to see whether `R` is easier to use for this task."
   ]
  },
  {
   "cell_type": "markdown",
   "metadata": {},
   "source": [
    "To start the assignment, run the cell below to set up some imports and the automatic tests."
   ]
  },
  {
   "cell_type": "code",
   "execution_count": 1,
   "metadata": {
    "scrolled": true
   },
   "outputs": [
    {
     "name": "stdout",
     "output_type": "stream",
     "text": [
      "Requirement already up-to-date: okpy in /Users/mlion0200/anaconda3/envs/ds100/lib/python3.5/site-packages\n",
      "Requirement already up-to-date: requests==2.12.4 in /Users/mlion0200/anaconda3/envs/ds100/lib/python3.5/site-packages (from okpy)\n",
      "=====================================================================\n",
      "Assignment: Homework 2\n",
      "OK, version v1.11.1\n",
      "=====================================================================\n",
      "\n"
     ]
    }
   ],
   "source": [
    "import math\n",
    "import numpy as np\n",
    "import matplotlib\n",
    "%matplotlib inline\n",
    "import matplotlib.pyplot as plt\n",
    "\n",
    "!pip install -U okpy\n",
    "from client.api.notebook import Notebook\n",
    "ok = Notebook('hw2.ok')"
   ]
  },
  {
   "cell_type": "markdown",
   "metadata": {},
   "source": [
    "## Getting the dataset\n",
    "Since we'll be looking at Twitter data, we need to download the data from Twitter!\n",
    "\n",
    "Twitter provides an API for downloading tweet data in large batches.  The `tweepy` package makes it fairly easy to use."
   ]
  },
  {
   "cell_type": "markdown",
   "metadata": {},
   "source": [
    "#### Question 0\n",
    "Install `tweepy`, if you don't already have it.  (Be sure to activate your Conda environment for the class first.  Then run `pip install tweepy`.)"
   ]
  },
  {
   "cell_type": "markdown",
   "metadata": {},
   "source": [
    "There are instructions on using `tweepy` [here](http://tweepy.readthedocs.io/en/v3.5.0/getting_started.html), but we will give you example code.\n",
    "\n",
    "Twitter requires you to have authentication keys to access their API.  To get your keys, you'll have to sign up as a Twitter developer."
   ]
  },
  {
   "cell_type": "markdown",
   "metadata": {},
   "source": [
    "#### Question 1\n",
    "Follow these instructions to get your keys:\n",
    "\n",
    "1. [Create a Twitter account](https://twitter.com).  You can use an existing account if you have one.\n",
    "2. Under account settings, add your phone number to the account.\n",
    "3. [Create a Twitter developer account](https://dev.twitter.com/resources/signup).  Attach it to your Twitter account.\n",
    "4. Once you're logged into your developer account, [create an application for this assignment](https://apps.twitter.com/app/new).  You can call it whatever you want, and you can write any URL when it asks for a web site.\n",
    "5. On the page for that application, find your Consumer Key and Consumer Secret.\n",
    "6. On the same page, create an Access Token.  Record the resulting Access Token and Access Token Secret.\n",
    "7. Edit the file [keys.json](keys.json) and replace the placeholders with your keys.  Don't turn in that file."
   ]
  },
  {
   "cell_type": "markdown",
   "metadata": {},
   "source": [
    "## I AM AN IMPORTANT NOTE.  DO NOT SKIP ME.\n",
    "If someone has your authentication keys, they can access your Twitter account and post as you!  So don't give them to anyone, and **don't write them down in this notebook**.  The usual way to store sensitive information like this is to put it in a separate file and read it programmatically.  That way, you can share the rest of your code without sharing your keys.  That's why we're asking you to put your keys in `keys.json` for this assignment.\n",
    "\n",
    "## I AM A SECOND IMPORTANT NOTE.\n",
    "Twitter limits developers to a certain rate of requests for data.  If you make too many requests in a short period of time, you'll have to wait awhile (around 15 minutes) before you can make more.  So carefully follow the code examples you see and don't rerun cells without thinking.  Instead, always save the data you've collected to a file.  We've provided templates to help you do that."
   ]
  },
  {
   "cell_type": "markdown",
   "metadata": {},
   "source": [
    "In the example below, we have loaded some tweets by @BerkeleyData.  Run it, inspect the output, and read the code."
   ]
  },
  {
   "cell_type": "code",
   "execution_count": 2,
   "metadata": {},
   "outputs": [],
   "source": [
    "ds_tweets_save_path = \"BerkeleyData_recent_tweets.pkl\"\n",
    "from pathlib import Path\n",
    "# Guarding against attempts to download the data multiple\n",
    "# times:\n",
    "if not Path(ds_tweets_save_path).is_file():\n",
    "    import json\n",
    "    # Loading your keys from keys.json (which you should have filled\n",
    "    # in in question 1):\n",
    "    with open(\"keys.json\") as f:\n",
    "        keys = json.load(f)\n",
    "\n",
    "    import tweepy\n",
    "\n",
    "    # Authenticating:\n",
    "    auth = tweepy.OAuthHandler(keys[\"consumer_key\"], keys[\"consumer_secret\"])\n",
    "    auth.set_access_token(keys[\"access_token\"], keys[\"access_token_secret\"])\n",
    "    api = tweepy.API(auth)\n",
    "\n",
    "    # Getting as many recent tweets by @BerkeleyData as Twitter will let us have:\n",
    "    example_tweets = list(tweepy.Cursor(api.user_timeline, id=\"BerkeleyData\").items())\n",
    "\n",
    "    # Saving the tweets to a file as \"pickled\" objects:\n",
    "    with open(ds_tweets_save_path, \"wb\") as f:\n",
    "        import pickle\n",
    "        pickle.dump(example_tweets, f)\n",
    "\n",
    "# Re-loading the results:\n",
    "with open(ds_tweets_save_path, \"rb\") as f:\n",
    "    import pickle\n",
    "    example_tweets = pickle.load(f)"
   ]
  },
  {
   "cell_type": "code",
   "execution_count": 4,
   "metadata": {},
   "outputs": [
    {
     "name": "stdout",
     "output_type": "stream",
     "text": [
      "{'_json': {'contributors': None,\n",
      "           'coordinates': None,\n",
      "           'created_at': 'Wed May 17 16:09:49 +0000 2017',\n",
      "           'entities': {'hashtags': [{'indices': [97, 109],\n",
      "                                      'text': 'datascience'}],\n",
      "                        'symbols': [],\n",
      "                        'urls': [{'display_url': 'bit.ly/2m4bgfw',\n",
      "                                  'expanded_url': 'http://bit.ly/2m4bgfw',\n",
      "                                  'indices': [73, 96],\n",
      "                                  'url': 'https://t.co/LXcSgwa0Yk'}],\n",
      "                        'user_mentions': []},\n",
      "           'favorite_count': 2,\n",
      "           'favorited': False,\n",
      "           'geo': None,\n",
      "           'id': 864875612669747200,\n",
      "           'id_str': '864875612669747200',\n",
      "           'in_reply_to_screen_name': None,\n",
      "           'in_reply_to_status_id': None,\n",
      "           'in_reply_to_status_id_str': None,\n",
      "           'in_reply_to_user_id': None,\n",
      "           'in_reply_to_user_id_str': None,\n",
      "           'is_quote_status': False,\n",
      "           'lang': 'en',\n",
      "           'place': None,\n",
      "           'possibly_sensitive': False,\n",
      "           'retweet_count': 4,\n",
      "           'retweeted': False,\n",
      "           'source': '<a href=\"http://twitter.com\" rel=\"nofollow\">Twitter Web '\n",
      "                     'Client</a>',\n",
      "           'text': 'Using Technology to Address Gender Bias in Film: Learn '\n",
      "                   'more, via Google: https://t.co/LXcSgwa0Yk #datascience',\n",
      "           'truncated': False,\n",
      "           'user': {'contributors_enabled': False,\n",
      "                    'created_at': 'Thu Feb 28 14:37:26 +0000 2013',\n",
      "                    'default_profile': False,\n",
      "                    'default_profile_image': False,\n",
      "                    'description': 'An online Master of Information and Data '\n",
      "                                   'Science (MIDS) degree from the UC Berkeley '\n",
      "                                   'School of Information. Learn more at: '\n",
      "                                   'http://t.co/zf6gfBWovQ',\n",
      "                    'entities': {'description': {'urls': [{'display_url': 'bit.ly/tBerkeleyData',\n",
      "                                                           'expanded_url': 'http://bit.ly/tBerkeleyData',\n",
      "                                                           'indices': [122,\n",
      "                                                                       144],\n",
      "                                                           'url': 'http://t.co/zf6gfBWovQ'}]},\n",
      "                                 'url': {'urls': [{'display_url': 'datascience.berkeley.edu',\n",
      "                                                   'expanded_url': 'http://datascience.berkeley.edu',\n",
      "                                                   'indices': [0, 22],\n",
      "                                                   'url': 'http://t.co/S79Ul3oCaa'}]}},\n",
      "                    'favourites_count': 44,\n",
      "                    'follow_request_sent': False,\n",
      "                    'followers_count': 9611,\n",
      "                    'following': False,\n",
      "                    'friends_count': 403,\n",
      "                    'geo_enabled': False,\n",
      "                    'has_extended_profile': False,\n",
      "                    'id': 1227698863,\n",
      "                    'id_str': '1227698863',\n",
      "                    'is_translation_enabled': False,\n",
      "                    'is_translator': False,\n",
      "                    'lang': 'en',\n",
      "                    'listed_count': 452,\n",
      "                    'location': 'Berkeley, CA',\n",
      "                    'name': 'datascience@berkeley',\n",
      "                    'notifications': False,\n",
      "                    'profile_background_color': 'CCCCCC',\n",
      "                    'profile_background_image_url': 'http://pbs.twimg.com/profile_background_images/378800000096571211/5f9ba86a5d2b87c2c48544133c25b092.jpeg',\n",
      "                    'profile_background_image_url_https': 'https://pbs.twimg.com/profile_background_images/378800000096571211/5f9ba86a5d2b87c2c48544133c25b092.jpeg',\n",
      "                    'profile_background_tile': False,\n",
      "                    'profile_banner_url': 'https://pbs.twimg.com/profile_banners/1227698863/1405953823',\n",
      "                    'profile_image_url': 'http://pbs.twimg.com/profile_images/378800000146514422/6d9a5af0a0abb83d4cfe2d0ab2067ecb_normal.jpeg',\n",
      "                    'profile_image_url_https': 'https://pbs.twimg.com/profile_images/378800000146514422/6d9a5af0a0abb83d4cfe2d0ab2067ecb_normal.jpeg',\n",
      "                    'profile_link_color': '5173B6',\n",
      "                    'profile_sidebar_border_color': 'FFFFFF',\n",
      "                    'profile_sidebar_fill_color': 'DDEEF6',\n",
      "                    'profile_text_color': '333333',\n",
      "                    'profile_use_background_image': True,\n",
      "                    'protected': False,\n",
      "                    'screen_name': 'BerkeleyData',\n",
      "                    'statuses_count': 2172,\n",
      "                    'time_zone': 'Eastern Time (US & Canada)',\n",
      "                    'translator_type': 'none',\n",
      "                    'url': 'http://t.co/S79Ul3oCaa',\n",
      "                    'utc_offset': -14400,\n",
      "                    'verified': False}},\n",
      " 'author': User(contributors_enabled=False, geo_enabled=False, location='Berkeley, CA', screen_name='BerkeleyData', profile_sidebar_fill_color='DDEEF6', is_translator=False, profile_link_color='5173B6', profile_sidebar_border_color='FFFFFF', created_at=datetime.datetime(2013, 2, 28, 14, 37, 26), profile_background_tile=False, id=1227698863, favourites_count=44, translator_type='none', profile_image_url='http://pbs.twimg.com/profile_images/378800000146514422/6d9a5af0a0abb83d4cfe2d0ab2067ecb_normal.jpeg', followers_count=9611, time_zone='Eastern Time (US & Canada)', profile_background_image_url_https='https://pbs.twimg.com/profile_background_images/378800000096571211/5f9ba86a5d2b87c2c48544133c25b092.jpeg', utc_offset=-14400, follow_request_sent=False, notifications=False, profile_background_color='CCCCCC', entities={'url': {'urls': [{'url': 'http://t.co/S79Ul3oCaa', 'expanded_url': 'http://datascience.berkeley.edu', 'indices': [0, 22], 'display_url': 'datascience.berkeley.edu'}]}, 'description': {'urls': [{'url': 'http://t.co/zf6gfBWovQ', 'expanded_url': 'http://bit.ly/tBerkeleyData', 'indices': [122, 144], 'display_url': 'bit.ly/tBerkeleyData'}]}}, default_profile_image=False, friends_count=403, has_extended_profile=False, default_profile=False, statuses_count=2172, id_str='1227698863', description='An online Master of Information and Data Science (MIDS) degree from the UC Berkeley School of Information. Learn more at: http://t.co/zf6gfBWovQ', profile_image_url_https='https://pbs.twimg.com/profile_images/378800000146514422/6d9a5af0a0abb83d4cfe2d0ab2067ecb_normal.jpeg', protected=False, listed_count=452, is_translation_enabled=False, profile_use_background_image=True, profile_banner_url='https://pbs.twimg.com/profile_banners/1227698863/1405953823', profile_text_color='333333', following=False, _json={'time_zone': 'Eastern Time (US & Canada)', 'contributors_enabled': False, 'default_profile': False, 'geo_enabled': False, 'utc_offset': -14400, 'follow_request_sent': False, 'notifications': False, 'profile_background_color': 'CCCCCC', 'location': 'Berkeley, CA', 'screen_name': 'BerkeleyData', 'profile_sidebar_fill_color': 'DDEEF6', 'id_str': '1227698863', 'profile_link_color': '5173B6', 'followers_count': 9611, 'profile_background_image_url_https': 'https://pbs.twimg.com/profile_background_images/378800000096571211/5f9ba86a5d2b87c2c48544133c25b092.jpeg', 'friends_count': 403, 'has_extended_profile': False, 'is_translator': False, 'statuses_count': 2172, 'url': 'http://t.co/S79Ul3oCaa', 'favourites_count': 44, 'description': 'An online Master of Information and Data Science (MIDS) degree from the UC Berkeley School of Information. Learn more at: http://t.co/zf6gfBWovQ', 'profile_image_url_https': 'https://pbs.twimg.com/profile_images/378800000146514422/6d9a5af0a0abb83d4cfe2d0ab2067ecb_normal.jpeg', 'default_profile_image': False, 'protected': False, 'listed_count': 452, 'created_at': 'Thu Feb 28 14:37:26 +0000 2013', 'is_translation_enabled': False, 'profile_use_background_image': True, 'profile_banner_url': 'https://pbs.twimg.com/profile_banners/1227698863/1405953823', 'profile_background_tile': False, 'profile_text_color': '333333', 'following': False, 'entities': {'url': {'urls': [{'url': 'http://t.co/S79Ul3oCaa', 'expanded_url': 'http://datascience.berkeley.edu', 'indices': [0, 22], 'display_url': 'datascience.berkeley.edu'}]}, 'description': {'urls': [{'url': 'http://t.co/zf6gfBWovQ', 'expanded_url': 'http://bit.ly/tBerkeleyData', 'indices': [122, 144], 'display_url': 'bit.ly/tBerkeleyData'}]}}, 'id': 1227698863, 'name': 'datascience@berkeley', 'lang': 'en', 'translator_type': 'none', 'profile_background_image_url': 'http://pbs.twimg.com/profile_background_images/378800000096571211/5f9ba86a5d2b87c2c48544133c25b092.jpeg', 'profile_sidebar_border_color': 'FFFFFF', 'profile_image_url': 'http://pbs.twimg.com/profile_images/378800000146514422/6d9a5af0a0abb83d4cfe2d0ab2067ecb_normal.jpeg', 'verified': False}, name='datascience@berkeley', lang='en', profile_background_image_url='http://pbs.twimg.com/profile_background_images/378800000096571211/5f9ba86a5d2b87c2c48544133c25b092.jpeg', verified=False, url='http://t.co/S79Ul3oCaa'),\n",
      " 'contributors': None,\n",
      " 'coordinates': None,\n",
      " 'created_at': datetime.datetime(2017, 5, 17, 16, 9, 49),\n",
      " 'entities': {'hashtags': [{'indices': [97, 109], 'text': 'datascience'}],\n",
      "              'symbols': [],\n",
      "              'urls': [{'display_url': 'bit.ly/2m4bgfw',\n",
      "                        'expanded_url': 'http://bit.ly/2m4bgfw',\n",
      "                        'indices': [73, 96],\n",
      "                        'url': 'https://t.co/LXcSgwa0Yk'}],\n",
      "              'user_mentions': []},\n",
      " 'favorite_count': 2,\n",
      " 'favorited': False,\n",
      " 'geo': None,\n",
      " 'id': 864875612669747200,\n",
      " 'id_str': '864875612669747200',\n",
      " 'in_reply_to_screen_name': None,\n",
      " 'in_reply_to_status_id': None,\n",
      " 'in_reply_to_status_id_str': None,\n",
      " 'in_reply_to_user_id': None,\n",
      " 'in_reply_to_user_id_str': None,\n",
      " 'is_quote_status': False,\n",
      " 'lang': 'en',\n",
      " 'place': None,\n",
      " 'possibly_sensitive': False,\n",
      " 'retweet_count': 4,\n",
      " 'retweeted': False,\n",
      " 'source': 'Twitter Web Client',\n",
      " 'source_url': 'http://twitter.com',\n",
      " 'text': 'Using Technology to Address Gender Bias in Film: Learn more, via '\n",
      "         'Google: https://t.co/LXcSgwa0Yk #datascience',\n",
      " 'truncated': False,\n",
      " 'user': User(contributors_enabled=False, geo_enabled=False, location='Berkeley, CA', screen_name='BerkeleyData', profile_sidebar_fill_color='DDEEF6', is_translator=False, profile_link_color='5173B6', profile_sidebar_border_color='FFFFFF', created_at=datetime.datetime(2013, 2, 28, 14, 37, 26), profile_background_tile=False, id=1227698863, favourites_count=44, translator_type='none', profile_image_url='http://pbs.twimg.com/profile_images/378800000146514422/6d9a5af0a0abb83d4cfe2d0ab2067ecb_normal.jpeg', followers_count=9611, time_zone='Eastern Time (US & Canada)', profile_background_image_url_https='https://pbs.twimg.com/profile_background_images/378800000096571211/5f9ba86a5d2b87c2c48544133c25b092.jpeg', utc_offset=-14400, follow_request_sent=False, notifications=False, profile_background_color='CCCCCC', entities={'url': {'urls': [{'url': 'http://t.co/S79Ul3oCaa', 'expanded_url': 'http://datascience.berkeley.edu', 'indices': [0, 22], 'display_url': 'datascience.berkeley.edu'}]}, 'description': {'urls': [{'url': 'http://t.co/zf6gfBWovQ', 'expanded_url': 'http://bit.ly/tBerkeleyData', 'indices': [122, 144], 'display_url': 'bit.ly/tBerkeleyData'}]}}, default_profile_image=False, friends_count=403, has_extended_profile=False, default_profile=False, statuses_count=2172, id_str='1227698863', description='An online Master of Information and Data Science (MIDS) degree from the UC Berkeley School of Information. Learn more at: http://t.co/zf6gfBWovQ', profile_image_url_https='https://pbs.twimg.com/profile_images/378800000146514422/6d9a5af0a0abb83d4cfe2d0ab2067ecb_normal.jpeg', protected=False, listed_count=452, is_translation_enabled=False, profile_use_background_image=True, profile_banner_url='https://pbs.twimg.com/profile_banners/1227698863/1405953823', profile_text_color='333333', following=False, _json={'time_zone': 'Eastern Time (US & Canada)', 'contributors_enabled': False, 'default_profile': False, 'geo_enabled': False, 'utc_offset': -14400, 'follow_request_sent': False, 'notifications': False, 'profile_background_color': 'CCCCCC', 'location': 'Berkeley, CA', 'screen_name': 'BerkeleyData', 'profile_sidebar_fill_color': 'DDEEF6', 'id_str': '1227698863', 'profile_link_color': '5173B6', 'followers_count': 9611, 'profile_background_image_url_https': 'https://pbs.twimg.com/profile_background_images/378800000096571211/5f9ba86a5d2b87c2c48544133c25b092.jpeg', 'friends_count': 403, 'has_extended_profile': False, 'is_translator': False, 'statuses_count': 2172, 'url': 'http://t.co/S79Ul3oCaa', 'favourites_count': 44, 'description': 'An online Master of Information and Data Science (MIDS) degree from the UC Berkeley School of Information. Learn more at: http://t.co/zf6gfBWovQ', 'profile_image_url_https': 'https://pbs.twimg.com/profile_images/378800000146514422/6d9a5af0a0abb83d4cfe2d0ab2067ecb_normal.jpeg', 'default_profile_image': False, 'protected': False, 'listed_count': 452, 'created_at': 'Thu Feb 28 14:37:26 +0000 2013', 'is_translation_enabled': False, 'profile_use_background_image': True, 'profile_banner_url': 'https://pbs.twimg.com/profile_banners/1227698863/1405953823', 'profile_background_tile': False, 'profile_text_color': '333333', 'following': False, 'entities': {'url': {'urls': [{'url': 'http://t.co/S79Ul3oCaa', 'expanded_url': 'http://datascience.berkeley.edu', 'indices': [0, 22], 'display_url': 'datascience.berkeley.edu'}]}, 'description': {'urls': [{'url': 'http://t.co/zf6gfBWovQ', 'expanded_url': 'http://bit.ly/tBerkeleyData', 'indices': [122, 144], 'display_url': 'bit.ly/tBerkeleyData'}]}}, 'id': 1227698863, 'name': 'datascience@berkeley', 'lang': 'en', 'translator_type': 'none', 'profile_background_image_url': 'http://pbs.twimg.com/profile_background_images/378800000096571211/5f9ba86a5d2b87c2c48544133c25b092.jpeg', 'profile_sidebar_border_color': 'FFFFFF', 'profile_image_url': 'http://pbs.twimg.com/profile_images/378800000146514422/6d9a5af0a0abb83d4cfe2d0ab2067ecb_normal.jpeg', 'verified': False}, name='datascience@berkeley', lang='en', profile_background_image_url='http://pbs.twimg.com/profile_background_images/378800000096571211/5f9ba86a5d2b87c2c48544133c25b092.jpeg', verified=False, url='http://t.co/S79Ul3oCaa')}\n"
     ]
    }
   ],
   "source": [
    "# Looking at one tweet object, which has type Status:\n",
    "example_tweets[0]\n",
    "# You can try something like this:\n",
    "import pprint; pprint.pprint(vars(example_tweets[0]))\n",
    "# ...to get a more easily-readable view."
   ]
  },
  {
   "cell_type": "markdown",
   "metadata": {},
   "source": [
    "#### Question 2\n",
    "Write code to download all the recent tweets by Hillary Clinton (@HillaryClinton).  Follow our example code if you wish.  Write your code in the form of four **functions** matching the documentation provided.  (You may define additional functions as helpers.)  **Once you've written your functions,** you can run the subsequent cell to download the tweets."
   ]
  },
  {
   "cell_type": "code",
   "execution_count": 5,
   "metadata": {
    "collapsed": true,
    "for_assignment_type": "student"
   },
   "outputs": [],
   "source": [
    "def load_keys(path):\n",
    "    \"\"\"Loads your Twitter authentication keys from a file on disk.\n",
    "    \n",
    "    Args:\n",
    "        path (str): The path to your key file.  The file should\n",
    "          be in JSON format and look like this (but filled in):\n",
    "            {\n",
    "                \"consumer_key\": \"<your Consumer Key here>\",\n",
    "                \"consumer_secret\":  \"<your Consumer Secret here>\",\n",
    "                \"access_token\": \"<your Access Token here>\",\n",
    "                \"access_token_secret\": \"<your Access Token Secret here>\"\n",
    "            }\n",
    "    \n",
    "    Returns:\n",
    "        dict: A dictionary mapping key names (like \"consumer_key\") to\n",
    "          key values.\"\"\"\n",
    "    import json\n",
    "    with open(path) as f:\n",
    "        return json.load(f)\n",
    "\n",
    "def download_recent_tweets_by_user(user_account_name, keys):\n",
    "    \"\"\"Downloads tweets by one Twitter user.\n",
    "\n",
    "    Args:\n",
    "        user_account_name (str): The name of the Twitter account\n",
    "          whose tweets will be downloaded.\n",
    "        keys (dict): A Python dictionary with Twitter authentication\n",
    "          keys (strings), like this (but filled in):\n",
    "            {\n",
    "                \"consumer_key\": \"<your Consumer Key here>\",\n",
    "                \"consumer_secret\":  \"<your Consumer Secret here>\",\n",
    "                \"access_token\": \"<your Access Token here>\",\n",
    "                \"access_token_secret\": \"<your Access Token Secret here>\"\n",
    "            }\n",
    "\n",
    "    Returns:\n",
    "        list: A list of Status objects, each representing one tweet.\"\"\"\n",
    "    import tweepy\n",
    "\n",
    "    # Authenticating:\n",
    "    auth = tweepy.OAuthHandler(keys[\"consumer_key\"], keys[\"consumer_secret\"])\n",
    "    auth.set_access_token(keys[\"access_token\"], keys[\"access_token_secret\"])\n",
    "    api = tweepy.API(auth)\n",
    "\n",
    "    return list(tweepy.Cursor(api.user_timeline, id=user_account_name).items())\n",
    "\n",
    "def save_tweets(tweets, path):\n",
    "    \"\"\"Saves a list of tweets to a file in the local filesystem.\n",
    "    \n",
    "    This function makes no guarantee about the format of the saved\n",
    "    tweets, **except** that calling load_tweets(path) after\n",
    "    save_tweets(tweets, path) will produce the same list of tweets\n",
    "    and that only the file at the given path is used to store the\n",
    "    tweets.  (That means you can implement this function however\n",
    "    you want, as long as saving and loading works!)\n",
    "\n",
    "    Args:\n",
    "        tweets (list): A list of tweet objects (of type Status) to\n",
    "          be saved.\n",
    "        path (str): The place where the tweets will be saved.\n",
    "\n",
    "    Returns:\n",
    "        None\"\"\"\n",
    "    # Saving the tweets to a file as \"pickled\" objects:\n",
    "    with open(path, \"wb\") as f:\n",
    "        import pickle\n",
    "        pickle.dump(tweets, f)\n",
    "    \n",
    "def load_tweets(path):\n",
    "    \"\"\"Loads tweets that have previously been saved.\n",
    "    \n",
    "    Calling load_tweets(path) after save_tweets(tweets, path)\n",
    "    will produce the same list of tweets.\n",
    "    \n",
    "    Args:\n",
    "        path (str): The place where the tweets were be saved.\n",
    "\n",
    "    Returns:\n",
    "        list: A list of Status objects, each representing one tweet.\"\"\"\n",
    "    # Re-loading the results:\n",
    "    with open(path, \"rb\") as f:\n",
    "        import pickle\n",
    "        return pickle.load(f)"
   ]
  },
  {
   "cell_type": "code",
   "execution_count": 6,
   "metadata": {
    "collapsed": true
   },
   "outputs": [],
   "source": [
    "# When you are done, run this cell to load @HillaryClinton's tweets.\n",
    "# Note the function get_tweets_with_cache.  You may find it useful\n",
    "# later.\n",
    "\n",
    "def get_tweets_with_cache(user_account_name, keys_path):\n",
    "    \"\"\"Get recent tweets from one user, loading from a disk cache if available.\n",
    "    \n",
    "    The first time you call this function, it will download tweets by\n",
    "    a user.  Subsequent calls will not re-download the tweets; instead\n",
    "    they'll load the tweets from a save file in your local filesystem.\n",
    "    All this is done using the functions you defined in the previous cell.\n",
    "    This has benefits and drawbacks that often appear when you cache data:\n",
    "    \n",
    "    +: Using this function will prevent extraneous usage of the Twitter API.\n",
    "    +: You will get your data much faster after the first time it's called.\n",
    "    -: If you really want to re-download the tweets (say, to get newer ones,\n",
    "       or because you screwed up something in the previous cell and your\n",
    "       tweets aren't what you wanted), you'll have to find the save file\n",
    "       (which will look like <something>_recent_tweets.pkl) and delete it.\n",
    "    \n",
    "    Args:\n",
    "        user_account_name (str): The Twitter handle of a user, without the @.\n",
    "        keys_path (str): The path to a JSON keys file in your filesystem.\n",
    "    \"\"\"\n",
    "    save_path = \"{}_recent_tweets.pkl\".format(user_account_name)\n",
    "    from pathlib import Path\n",
    "    if not Path(save_path).is_file():\n",
    "        keys = load_keys(keys_path)\n",
    "        tweets = download_recent_tweets_by_user(user_account_name, keys)\n",
    "        save_tweets(tweets, save_path)\n",
    "    return load_tweets(save_path)"
   ]
  },
  {
   "cell_type": "code",
   "execution_count": 7,
   "metadata": {
    "collapsed": true
   },
   "outputs": [],
   "source": [
    "clinton_tweets = get_tweets_with_cache(\"HillaryClinton\", \"keys.json\")"
   ]
  },
  {
   "cell_type": "code",
   "execution_count": 12,
   "metadata": {
    "scrolled": true
   },
   "outputs": [
    {
     "name": "stdout",
     "output_type": "stream",
     "text": [
      "{'_json': {'contributors': None,\n",
      "           'coordinates': None,\n",
      "           'created_at': 'Sun Jun 04 22:41:23 +0000 2017',\n",
      "           'entities': {'hashtags': [],\n",
      "                        'symbols': [],\n",
      "                        'urls': [{'display_url': 'twitter.com/i/web/status/8…',\n",
      "                                  'expanded_url': 'https://twitter.com/i/web/status/871497135841304576',\n",
      "                                  'indices': [125, 148],\n",
      "                                  'url': 'https://t.co/RGB99CERPo'}],\n",
      "                        'user_mentions': []},\n",
      "           'favorite_count': 122632,\n",
      "           'favorited': False,\n",
      "           'geo': None,\n",
      "           'id': 871497135841304576,\n",
      "           'id_str': '871497135841304576',\n",
      "           'in_reply_to_screen_name': None,\n",
      "           'in_reply_to_status_id': None,\n",
      "           'in_reply_to_status_id_str': None,\n",
      "           'in_reply_to_user_id': None,\n",
      "           'in_reply_to_user_id_str': None,\n",
      "           'is_quote_status': True,\n",
      "           'lang': 'en',\n",
      "           'place': None,\n",
      "           'possibly_sensitive': False,\n",
      "           'quoted_status': {'contributors': None,\n",
      "                             'coordinates': None,\n",
      "                             'created_at': 'Sun Jun 04 21:36:46 +0000 2017',\n",
      "                             'entities': {'hashtags': [],\n",
      "                                          'symbols': [],\n",
      "                                          'urls': [{'display_url': 'twitter.com/i/web/status/8…',\n",
      "                                                    'expanded_url': 'https://twitter.com/i/web/status/871480873799098368',\n",
      "                                                    'indices': [117, 140],\n",
      "                                                    'url': 'https://t.co/3JTz24IDjd'}],\n",
      "                                          'user_mentions': [{'id': 66967746,\n",
      "                                                             'id_str': '66967746',\n",
      "                                                             'indices': [0, 12],\n",
      "                                                             'name': 'Metropolitan '\n",
      "                                                                     'Police',\n",
      "                                                             'screen_name': 'metpoliceuk'},\n",
      "                                                            {'id': 47319664,\n",
      "                                                             'id_str': '47319664',\n",
      "                                                             'indices': [13,\n",
      "                                                                         17],\n",
      "                                                             'name': 'Transport '\n",
      "                                                                     'for '\n",
      "                                                                     'London',\n",
      "                                                             'screen_name': 'TfL'},\n",
      "                                                            {'id': 365344176,\n",
      "                                                             'id_str': '365344176',\n",
      "                                                             'indices': [18,\n",
      "                                                                         30],\n",
      "                                                             'name': 'Network '\n",
      "                                                                     'Rail',\n",
      "                                                             'screen_name': 'networkrail'}]},\n",
      "                             'favorite_count': 1626,\n",
      "                             'favorited': False,\n",
      "                             'geo': None,\n",
      "                             'id': 871480873799098368,\n",
      "                             'id_str': '871480873799098368',\n",
      "                             'in_reply_to_screen_name': 'MayorofLondon',\n",
      "                             'in_reply_to_status_id': 871477325820551168,\n",
      "                             'in_reply_to_status_id_str': '871477325820551168',\n",
      "                             'in_reply_to_user_id': 14700117,\n",
      "                             'in_reply_to_user_id_str': '14700117',\n",
      "                             'is_quote_status': False,\n",
      "                             'lang': 'en',\n",
      "                             'place': None,\n",
      "                             'possibly_sensitive': False,\n",
      "                             'retweet_count': 395,\n",
      "                             'retweeted': False,\n",
      "                             'source': '<a href=\"http://twitter.com\" '\n",
      "                                       'rel=\"nofollow\">Twitter Web Client</a>',\n",
      "                             'text': '@metpoliceuk @TfL @networkrail London '\n",
      "                                     'Bridge Underground and National Rail '\n",
      "                                     'stations will reopen and operate '\n",
      "                                     'service… https://t.co/3JTz24IDjd',\n",
      "                             'truncated': True,\n",
      "                             'user': {'contributors_enabled': False,\n",
      "                                      'created_at': 'Thu May 08 13:23:35 +0000 '\n",
      "                                                    '2008',\n",
      "                                      'default_profile': False,\n",
      "                                      'default_profile_image': False,\n",
      "                                      'description': 'This is the official '\n",
      "                                                     'Twitter account for the '\n",
      "                                                     'Mayor of London, Sadiq '\n",
      "                                                     'Khan. Tweets before 9 '\n",
      "                                                     'May 2016 are from the '\n",
      "                                                     'previous Mayor',\n",
      "                                      'entities': {'description': {'urls': []},\n",
      "                                                   'url': {'urls': [{'display_url': 'london.gov.uk',\n",
      "                                                                     'expanded_url': 'http://www.london.gov.uk/',\n",
      "                                                                     'indices': [0,\n",
      "                                                                                 23],\n",
      "                                                                     'url': 'https://t.co/2bSidMC1Y0'}]}},\n",
      "                                      'favourites_count': 34,\n",
      "                                      'follow_request_sent': False,\n",
      "                                      'followers_count': 2860305,\n",
      "                                      'following': False,\n",
      "                                      'friends_count': 3244,\n",
      "                                      'geo_enabled': True,\n",
      "                                      'has_extended_profile': False,\n",
      "                                      'id': 14700117,\n",
      "                                      'id_str': '14700117',\n",
      "                                      'is_translation_enabled': True,\n",
      "                                      'is_translator': False,\n",
      "                                      'lang': 'en',\n",
      "                                      'listed_count': 9269,\n",
      "                                      'location': 'London',\n",
      "                                      'name': 'Mayor of London',\n",
      "                                      'notifications': False,\n",
      "                                      'profile_background_color': 'FFFFFF',\n",
      "                                      'profile_background_image_url': 'http://pbs.twimg.com/profile_background_images/453869604012445698/03ZWGkmM.jpeg',\n",
      "                                      'profile_background_image_url_https': 'https://pbs.twimg.com/profile_background_images/453869604012445698/03ZWGkmM.jpeg',\n",
      "                                      'profile_background_tile': False,\n",
      "                                      'profile_banner_url': 'https://pbs.twimg.com/profile_banners/14700117/1468837607',\n",
      "                                      'profile_image_url': 'http://pbs.twimg.com/profile_images/729684290208849921/vKlTWOBi_normal.jpg',\n",
      "                                      'profile_image_url_https': 'https://pbs.twimg.com/profile_images/729684290208849921/vKlTWOBi_normal.jpg',\n",
      "                                      'profile_link_color': '0000FF',\n",
      "                                      'profile_sidebar_border_color': '000000',\n",
      "                                      'profile_sidebar_fill_color': 'FFFFFF',\n",
      "                                      'profile_text_color': '0D1AA5',\n",
      "                                      'profile_use_background_image': True,\n",
      "                                      'protected': False,\n",
      "                                      'screen_name': 'MayorofLondon',\n",
      "                                      'statuses_count': 8053,\n",
      "                                      'time_zone': 'London',\n",
      "                                      'translator_type': 'none',\n",
      "                                      'url': 'https://t.co/2bSidMC1Y0',\n",
      "                                      'utc_offset': 3600,\n",
      "                                      'verified': True}},\n",
      "           'quoted_status_id': 871480873799098368,\n",
      "           'quoted_status_id_str': '871480873799098368',\n",
      "           'retweet_count': 26802,\n",
      "           'retweeted': False,\n",
      "           'source': '<a href=\"http://twitter.com/download/iphone\" '\n",
      "                     'rel=\"nofollow\">Twitter for iPhone</a>',\n",
      "           'text': 'After acts of unspeakable cruelty &amp; cowardice, the '\n",
      "                   'people of London &amp; the UK choose resolve over fear. '\n",
      "                   'Your friends… https://t.co/RGB99CERPo',\n",
      "           'truncated': True,\n",
      "           'user': {'contributors_enabled': False,\n",
      "                    'created_at': 'Tue Apr 09 18:04:35 +0000 2013',\n",
      "                    'default_profile': False,\n",
      "                    'default_profile_image': False,\n",
      "                    'description': 'Wife, mom, grandma, women+kids advocate, '\n",
      "                                   'FLOTUS, Senator, SecState, hair icon, '\n",
      "                                   'pantsuit aficionado, 2016 presidential '\n",
      "                                   'candidate.',\n",
      "                    'entities': {'description': {'urls': []},\n",
      "                                 'url': {'urls': [{'display_url': 'HillaryClinton.com',\n",
      "                                                   'expanded_url': 'http://HillaryClinton.com',\n",
      "                                                   'indices': [0, 23],\n",
      "                                                   'url': 'https://t.co/xhPHAcdCwE'}]}},\n",
      "                    'favourites_count': 1173,\n",
      "                    'follow_request_sent': False,\n",
      "                    'followers_count': 16135238,\n",
      "                    'following': False,\n",
      "                    'friends_count': 762,\n",
      "                    'geo_enabled': True,\n",
      "                    'has_extended_profile': True,\n",
      "                    'id': 1339835893,\n",
      "                    'id_str': '1339835893',\n",
      "                    'is_translation_enabled': False,\n",
      "                    'is_translator': False,\n",
      "                    'lang': 'en',\n",
      "                    'listed_count': 37773,\n",
      "                    'location': 'New York, NY',\n",
      "                    'name': 'Hillary Clinton',\n",
      "                    'notifications': False,\n",
      "                    'profile_background_color': '0057B8',\n",
      "                    'profile_background_image_url': 'http://abs.twimg.com/images/themes/theme1/bg.png',\n",
      "                    'profile_background_image_url_https': 'https://abs.twimg.com/images/themes/theme1/bg.png',\n",
      "                    'profile_background_tile': False,\n",
      "                    'profile_banner_url': 'https://pbs.twimg.com/profile_banners/1339835893/1476893928',\n",
      "                    'profile_image_url': 'http://pbs.twimg.com/profile_images/839938827837976576/leN1zJJx_normal.jpg',\n",
      "                    'profile_image_url_https': 'https://pbs.twimg.com/profile_images/839938827837976576/leN1zJJx_normal.jpg',\n",
      "                    'profile_link_color': '0057B8',\n",
      "                    'profile_sidebar_border_color': '000000',\n",
      "                    'profile_sidebar_fill_color': '000000',\n",
      "                    'profile_text_color': '000000',\n",
      "                    'profile_use_background_image': False,\n",
      "                    'protected': False,\n",
      "                    'screen_name': 'HillaryClinton',\n",
      "                    'statuses_count': 9867,\n",
      "                    'time_zone': 'Eastern Time (US & Canada)',\n",
      "                    'translator_type': 'none',\n",
      "                    'url': 'https://t.co/xhPHAcdCwE',\n",
      "                    'utc_offset': -14400,\n",
      "                    'verified': True}},\n",
      " 'author': User(contributors_enabled=False, geo_enabled=True, location='New York, NY', screen_name='HillaryClinton', profile_sidebar_fill_color='000000', is_translator=False, profile_link_color='0057B8', profile_sidebar_border_color='000000', created_at=datetime.datetime(2013, 4, 9, 18, 4, 35), profile_background_tile=False, id=1339835893, favourites_count=1173, translator_type='none', profile_image_url='http://pbs.twimg.com/profile_images/839938827837976576/leN1zJJx_normal.jpg', followers_count=16135238, time_zone='Eastern Time (US & Canada)', profile_background_image_url_https='https://abs.twimg.com/images/themes/theme1/bg.png', utc_offset=-14400, follow_request_sent=False, notifications=False, profile_background_color='0057B8', entities={'url': {'urls': [{'url': 'https://t.co/xhPHAcdCwE', 'expanded_url': 'http://HillaryClinton.com', 'indices': [0, 23], 'display_url': 'HillaryClinton.com'}]}, 'description': {'urls': []}}, default_profile_image=False, friends_count=762, has_extended_profile=True, default_profile=False, statuses_count=9867, id_str='1339835893', description='Wife, mom, grandma, women+kids advocate, FLOTUS, Senator, SecState, hair icon, pantsuit aficionado, 2016 presidential candidate.', profile_image_url_https='https://pbs.twimg.com/profile_images/839938827837976576/leN1zJJx_normal.jpg', protected=False, listed_count=37773, is_translation_enabled=False, profile_use_background_image=False, profile_banner_url='https://pbs.twimg.com/profile_banners/1339835893/1476893928', profile_text_color='000000', following=False, _json={'time_zone': 'Eastern Time (US & Canada)', 'contributors_enabled': False, 'default_profile': False, 'geo_enabled': True, 'utc_offset': -14400, 'follow_request_sent': False, 'notifications': False, 'profile_background_color': '0057B8', 'location': 'New York, NY', 'screen_name': 'HillaryClinton', 'profile_sidebar_fill_color': '000000', 'id_str': '1339835893', 'profile_link_color': '0057B8', 'followers_count': 16135238, 'profile_background_image_url_https': 'https://abs.twimg.com/images/themes/theme1/bg.png', 'friends_count': 762, 'has_extended_profile': True, 'is_translator': False, 'statuses_count': 9867, 'url': 'https://t.co/xhPHAcdCwE', 'favourites_count': 1173, 'description': 'Wife, mom, grandma, women+kids advocate, FLOTUS, Senator, SecState, hair icon, pantsuit aficionado, 2016 presidential candidate.', 'profile_image_url_https': 'https://pbs.twimg.com/profile_images/839938827837976576/leN1zJJx_normal.jpg', 'default_profile_image': False, 'protected': False, 'listed_count': 37773, 'created_at': 'Tue Apr 09 18:04:35 +0000 2013', 'is_translation_enabled': False, 'profile_use_background_image': False, 'profile_banner_url': 'https://pbs.twimg.com/profile_banners/1339835893/1476893928', 'profile_background_tile': False, 'profile_text_color': '000000', 'following': False, 'entities': {'url': {'urls': [{'url': 'https://t.co/xhPHAcdCwE', 'expanded_url': 'http://HillaryClinton.com', 'indices': [0, 23], 'display_url': 'HillaryClinton.com'}]}, 'description': {'urls': []}}, 'id': 1339835893, 'name': 'Hillary Clinton', 'lang': 'en', 'translator_type': 'none', 'profile_background_image_url': 'http://abs.twimg.com/images/themes/theme1/bg.png', 'profile_sidebar_border_color': '000000', 'profile_image_url': 'http://pbs.twimg.com/profile_images/839938827837976576/leN1zJJx_normal.jpg', 'verified': True}, name='Hillary Clinton', lang='en', profile_background_image_url='http://abs.twimg.com/images/themes/theme1/bg.png', verified=True, url='https://t.co/xhPHAcdCwE'),\n",
      " 'contributors': None,\n",
      " 'coordinates': None,\n",
      " 'created_at': datetime.datetime(2017, 6, 4, 22, 41, 23),\n",
      " 'entities': {'hashtags': [],\n",
      "              'symbols': [],\n",
      "              'urls': [{'display_url': 'twitter.com/i/web/status/8…',\n",
      "                        'expanded_url': 'https://twitter.com/i/web/status/871497135841304576',\n",
      "                        'indices': [125, 148],\n",
      "                        'url': 'https://t.co/RGB99CERPo'}],\n",
      "              'user_mentions': []},\n",
      " 'favorite_count': 122632,\n",
      " 'favorited': False,\n",
      " 'geo': None,\n",
      " 'id': 871497135841304576,\n",
      " 'id_str': '871497135841304576',\n",
      " 'in_reply_to_screen_name': None,\n",
      " 'in_reply_to_status_id': None,\n",
      " 'in_reply_to_status_id_str': None,\n",
      " 'in_reply_to_user_id': None,\n",
      " 'in_reply_to_user_id_str': None,\n",
      " 'is_quote_status': True,\n",
      " 'lang': 'en',\n",
      " 'place': None,\n",
      " 'possibly_sensitive': False,\n",
      " 'quoted_status': {'contributors': None,\n",
      "                   'coordinates': None,\n",
      "                   'created_at': 'Sun Jun 04 21:36:46 +0000 2017',\n",
      "                   'entities': {'hashtags': [],\n",
      "                                'symbols': [],\n",
      "                                'urls': [{'display_url': 'twitter.com/i/web/status/8…',\n",
      "                                          'expanded_url': 'https://twitter.com/i/web/status/871480873799098368',\n",
      "                                          'indices': [117, 140],\n",
      "                                          'url': 'https://t.co/3JTz24IDjd'}],\n",
      "                                'user_mentions': [{'id': 66967746,\n",
      "                                                   'id_str': '66967746',\n",
      "                                                   'indices': [0, 12],\n",
      "                                                   'name': 'Metropolitan '\n",
      "                                                           'Police',\n",
      "                                                   'screen_name': 'metpoliceuk'},\n",
      "                                                  {'id': 47319664,\n",
      "                                                   'id_str': '47319664',\n",
      "                                                   'indices': [13, 17],\n",
      "                                                   'name': 'Transport for '\n",
      "                                                           'London',\n",
      "                                                   'screen_name': 'TfL'},\n",
      "                                                  {'id': 365344176,\n",
      "                                                   'id_str': '365344176',\n",
      "                                                   'indices': [18, 30],\n",
      "                                                   'name': 'Network Rail',\n",
      "                                                   'screen_name': 'networkrail'}]},\n",
      "                   'favorite_count': 1626,\n",
      "                   'favorited': False,\n",
      "                   'geo': None,\n",
      "                   'id': 871480873799098368,\n",
      "                   'id_str': '871480873799098368',\n",
      "                   'in_reply_to_screen_name': 'MayorofLondon',\n",
      "                   'in_reply_to_status_id': 871477325820551168,\n",
      "                   'in_reply_to_status_id_str': '871477325820551168',\n",
      "                   'in_reply_to_user_id': 14700117,\n",
      "                   'in_reply_to_user_id_str': '14700117',\n",
      "                   'is_quote_status': False,\n",
      "                   'lang': 'en',\n",
      "                   'place': None,\n",
      "                   'possibly_sensitive': False,\n",
      "                   'retweet_count': 395,\n",
      "                   'retweeted': False,\n",
      "                   'source': '<a href=\"http://twitter.com\" '\n",
      "                             'rel=\"nofollow\">Twitter Web Client</a>',\n",
      "                   'text': '@metpoliceuk @TfL @networkrail London Bridge '\n",
      "                           'Underground and National Rail stations will reopen '\n",
      "                           'and operate service… https://t.co/3JTz24IDjd',\n",
      "                   'truncated': True,\n",
      "                   'user': {'contributors_enabled': False,\n",
      "                            'created_at': 'Thu May 08 13:23:35 +0000 2008',\n",
      "                            'default_profile': False,\n",
      "                            'default_profile_image': False,\n",
      "                            'description': 'This is the official Twitter '\n",
      "                                           'account for the Mayor of London, '\n",
      "                                           'Sadiq Khan. Tweets before 9 May '\n",
      "                                           '2016 are from the previous Mayor',\n",
      "                            'entities': {'description': {'urls': []},\n",
      "                                         'url': {'urls': [{'display_url': 'london.gov.uk',\n",
      "                                                           'expanded_url': 'http://www.london.gov.uk/',\n",
      "                                                           'indices': [0, 23],\n",
      "                                                           'url': 'https://t.co/2bSidMC1Y0'}]}},\n",
      "                            'favourites_count': 34,\n",
      "                            'follow_request_sent': False,\n",
      "                            'followers_count': 2860305,\n",
      "                            'following': False,\n",
      "                            'friends_count': 3244,\n",
      "                            'geo_enabled': True,\n",
      "                            'has_extended_profile': False,\n",
      "                            'id': 14700117,\n",
      "                            'id_str': '14700117',\n",
      "                            'is_translation_enabled': True,\n",
      "                            'is_translator': False,\n",
      "                            'lang': 'en',\n",
      "                            'listed_count': 9269,\n",
      "                            'location': 'London',\n",
      "                            'name': 'Mayor of London',\n",
      "                            'notifications': False,\n",
      "                            'profile_background_color': 'FFFFFF',\n",
      "                            'profile_background_image_url': 'http://pbs.twimg.com/profile_background_images/453869604012445698/03ZWGkmM.jpeg',\n",
      "                            'profile_background_image_url_https': 'https://pbs.twimg.com/profile_background_images/453869604012445698/03ZWGkmM.jpeg',\n",
      "                            'profile_background_tile': False,\n",
      "                            'profile_banner_url': 'https://pbs.twimg.com/profile_banners/14700117/1468837607',\n",
      "                            'profile_image_url': 'http://pbs.twimg.com/profile_images/729684290208849921/vKlTWOBi_normal.jpg',\n",
      "                            'profile_image_url_https': 'https://pbs.twimg.com/profile_images/729684290208849921/vKlTWOBi_normal.jpg',\n",
      "                            'profile_link_color': '0000FF',\n",
      "                            'profile_sidebar_border_color': '000000',\n",
      "                            'profile_sidebar_fill_color': 'FFFFFF',\n",
      "                            'profile_text_color': '0D1AA5',\n",
      "                            'profile_use_background_image': True,\n",
      "                            'protected': False,\n",
      "                            'screen_name': 'MayorofLondon',\n",
      "                            'statuses_count': 8053,\n",
      "                            'time_zone': 'London',\n",
      "                            'translator_type': 'none',\n",
      "                            'url': 'https://t.co/2bSidMC1Y0',\n",
      "                            'utc_offset': 3600,\n",
      "                            'verified': True}},\n",
      " 'quoted_status_id': 871480873799098368,\n",
      " 'quoted_status_id_str': '871480873799098368',\n",
      " 'retweet_count': 26802,\n",
      " 'retweeted': False,\n",
      " 'source': 'Twitter for iPhone',\n",
      " 'source_url': 'http://twitter.com/download/iphone',\n",
      " 'text': 'After acts of unspeakable cruelty &amp; cowardice, the people of '\n",
      "         'London &amp; the UK choose resolve over fear. Your friends… '\n",
      "         'https://t.co/RGB99CERPo',\n",
      " 'truncated': True,\n",
      " 'user': User(contributors_enabled=False, geo_enabled=True, location='New York, NY', screen_name='HillaryClinton', profile_sidebar_fill_color='000000', is_translator=False, profile_link_color='0057B8', profile_sidebar_border_color='000000', created_at=datetime.datetime(2013, 4, 9, 18, 4, 35), profile_background_tile=False, id=1339835893, favourites_count=1173, translator_type='none', profile_image_url='http://pbs.twimg.com/profile_images/839938827837976576/leN1zJJx_normal.jpg', followers_count=16135238, time_zone='Eastern Time (US & Canada)', profile_background_image_url_https='https://abs.twimg.com/images/themes/theme1/bg.png', utc_offset=-14400, follow_request_sent=False, notifications=False, profile_background_color='0057B8', entities={'url': {'urls': [{'url': 'https://t.co/xhPHAcdCwE', 'expanded_url': 'http://HillaryClinton.com', 'indices': [0, 23], 'display_url': 'HillaryClinton.com'}]}, 'description': {'urls': []}}, default_profile_image=False, friends_count=762, has_extended_profile=True, default_profile=False, statuses_count=9867, id_str='1339835893', description='Wife, mom, grandma, women+kids advocate, FLOTUS, Senator, SecState, hair icon, pantsuit aficionado, 2016 presidential candidate.', profile_image_url_https='https://pbs.twimg.com/profile_images/839938827837976576/leN1zJJx_normal.jpg', protected=False, listed_count=37773, is_translation_enabled=False, profile_use_background_image=False, profile_banner_url='https://pbs.twimg.com/profile_banners/1339835893/1476893928', profile_text_color='000000', following=False, _json={'time_zone': 'Eastern Time (US & Canada)', 'contributors_enabled': False, 'default_profile': False, 'geo_enabled': True, 'utc_offset': -14400, 'follow_request_sent': False, 'notifications': False, 'profile_background_color': '0057B8', 'location': 'New York, NY', 'screen_name': 'HillaryClinton', 'profile_sidebar_fill_color': '000000', 'id_str': '1339835893', 'profile_link_color': '0057B8', 'followers_count': 16135238, 'profile_background_image_url_https': 'https://abs.twimg.com/images/themes/theme1/bg.png', 'friends_count': 762, 'has_extended_profile': True, 'is_translator': False, 'statuses_count': 9867, 'url': 'https://t.co/xhPHAcdCwE', 'favourites_count': 1173, 'description': 'Wife, mom, grandma, women+kids advocate, FLOTUS, Senator, SecState, hair icon, pantsuit aficionado, 2016 presidential candidate.', 'profile_image_url_https': 'https://pbs.twimg.com/profile_images/839938827837976576/leN1zJJx_normal.jpg', 'default_profile_image': False, 'protected': False, 'listed_count': 37773, 'created_at': 'Tue Apr 09 18:04:35 +0000 2013', 'is_translation_enabled': False, 'profile_use_background_image': False, 'profile_banner_url': 'https://pbs.twimg.com/profile_banners/1339835893/1476893928', 'profile_background_tile': False, 'profile_text_color': '000000', 'following': False, 'entities': {'url': {'urls': [{'url': 'https://t.co/xhPHAcdCwE', 'expanded_url': 'http://HillaryClinton.com', 'indices': [0, 23], 'display_url': 'HillaryClinton.com'}]}, 'description': {'urls': []}}, 'id': 1339835893, 'name': 'Hillary Clinton', 'lang': 'en', 'translator_type': 'none', 'profile_background_image_url': 'http://abs.twimg.com/images/themes/theme1/bg.png', 'profile_sidebar_border_color': '000000', 'profile_image_url': 'http://pbs.twimg.com/profile_images/839938827837976576/leN1zJJx_normal.jpg', 'verified': True}, name='Hillary Clinton', lang='en', profile_background_image_url='http://abs.twimg.com/images/themes/theme1/bg.png', verified=True, url='https://t.co/xhPHAcdCwE')}\n"
     ]
    }
   ],
   "source": [
    "# If everything is working properly, this should print out\n",
    "# a Status object (a single tweet).  clinton_tweets should\n",
    "# contain around 3000 tweets.\n",
    "clinton_tweets[0]\n",
    "import pprint; pprint.pprint(vars(clinton_tweets[0]))"
   ]
  },
  {
   "cell_type": "code",
   "execution_count": 9,
   "metadata": {},
   "outputs": [
    {
     "name": "stdout",
     "output_type": "stream",
     "text": [
      "~~~~~~~~~~~~~~~~~~~~~~~~~~~~~~~~~~~~~~~~~~~~~~~~~~~~~~~~~~~~~~~~~~~~~\n",
      "Running tests\n",
      "\n",
      "---------------------------------------------------------------------\n",
      "Test summary\n",
      "    Passed: 2\n",
      "    Failed: 0\n",
      "[ooooooooook] 100.0% passed\n",
      "\n"
     ]
    }
   ],
   "source": [
    "_ = ok.grade('q02')"
   ]
  },
  {
   "cell_type": "markdown",
   "metadata": {},
   "source": [
    "### Exploring the dataset\n",
    "Twitter gives us a lot of information about each tweet, not just its text.  You can read the full documentation [here](https://dev.twitter.com/overview/api/tweets).  Look at one tweet to get a sense of the information we have available."
   ]
  },
  {
   "cell_type": "markdown",
   "metadata": {},
   "source": [
    "#### Question 3\n",
    "Which fields contain:\n",
    "1. the actual text of a tweet,\n",
    "2. the time when the tweet was posted, and\n",
    "3. the source (device and app) from which the tweet was posted?\n",
    "\n",
    "To answer the question, write functions that extract each field from a tweet.  (Each one should take a single Status object as its argument.)"
   ]
  },
  {
   "cell_type": "code",
   "execution_count": 10,
   "metadata": {
    "collapsed": true
   },
   "outputs": [],
   "source": [
    "def extract_text(tweet):\n",
    "    return tweet.text\n",
    "\n",
    "def extract_time(tweet):\n",
    "    return tweet.created_at\n",
    "\n",
    "def extract_source(tweet):\n",
    "    return tweet.source"
   ]
  },
  {
   "cell_type": "code",
   "execution_count": 11,
   "metadata": {},
   "outputs": [
    {
     "name": "stdout",
     "output_type": "stream",
     "text": [
      "~~~~~~~~~~~~~~~~~~~~~~~~~~~~~~~~~~~~~~~~~~~~~~~~~~~~~~~~~~~~~~~~~~~~~\n",
      "Running tests\n",
      "\n",
      "---------------------------------------------------------------------\n",
      "Test summary\n",
      "    Passed: 1\n",
      "    Failed: 0\n",
      "[ooooooooook] 100.0% passed\n",
      "\n"
     ]
    }
   ],
   "source": [
    "_ = ok.grade('q03')"
   ]
  },
  {
   "cell_type": "markdown",
   "metadata": {},
   "source": [
    "#### Question 4\n",
    "Are there any other fields you think might be useful in identifying the true author of an @HillaryClinton tweet?  (If you're reading the documentation, consider whether fields are actually present often enough in the data to be useful.)"
   ]
  },
  {
   "cell_type": "markdown",
   "metadata": {},
   "source": [
    "*Retweeted count and location may be helpful. Retweeted count shows how popular a tweet is. If the true author's tweet is agreed by more users, then that is a useful information. Location can be used to dentify unmatched tweets. For example, if Hillary is in California, but the tweet comes from New York, then it is a tweet from someone else.*"
   ]
  },
  {
   "cell_type": "markdown",
   "metadata": {},
   "source": [
    "## Building a Pandas table\n",
    "JSON (and the Status object, which is just Tweepy's translation of the JSON produced by the Twitter API to a Python object) is nice for transmitting data, but it's not ideal for analysis.  The data will be easier to work with if we put them in a table.\n",
    "\n",
    "To create an empty table in Pandas, write:"
   ]
  },
  {
   "cell_type": "code",
   "execution_count": 13,
   "metadata": {
    "collapsed": true
   },
   "outputs": [],
   "source": [
    "import pandas as pd\n",
    "df = pd.DataFrame()"
   ]
  },
  {
   "cell_type": "markdown",
   "metadata": {},
   "source": [
    "(`pd` is the standard abbrevation for Pandas.)\n",
    "\n",
    "Now let's make a table with useful information in it.  To add a column to a DataFrame called `df`, write:\n",
    "    \n",
    "    df['column_name'] = some_list_or_array\n",
    "\n",
    "([This page](http://pandas.pydata.org/pandas-docs/stable/10min.html) is a useful reference for many of the basic operations in Pandas.  You don't need to read it now, but it might be helpful if you get stuck.)"
   ]
  },
  {
   "cell_type": "markdown",
   "metadata": {},
   "source": [
    "#### Question 5\n",
    "Write a function called `make_dataframe`.  It should take as its argument a list of tweets like `clinton_tweets` and return a Pandas DataFrame.  The DataFrame should contain columns for all the fields in question 3 and any fields you listed in question 4.  **Use the field names as the names of the corresponding columns.**"
   ]
  },
  {
   "cell_type": "code",
   "execution_count": 15,
   "metadata": {
    "collapsed": true
   },
   "outputs": [],
   "source": [
    "def make_dataframe(tweets):\n",
    "    \"\"\"Make a DataFrame from a list of tweets, with a few relevant fields.\n",
    "    \n",
    "    Args:\n",
    "        tweets (list): A list of tweets, each one a Status object.\n",
    "    \n",
    "    Returns:\n",
    "        DataFrame: A Pandas DataFrame containing one row for each element\n",
    "          of tweets and one column for each relevant field.\"\"\"\n",
    "    df = pd.DataFrame()\n",
    "    df['text'] = [extract_text(t) for t in tweets]\n",
    "    df['created_at'] = [extract_time(t) for t in tweets]\n",
    "    df['source'] = [extract_source(t) for t in tweets]\n",
    "    df['retweet_count'] = [t.retweet_count for t in tweets]\n",
    "    df['location'] = [t.user.location for t in tweets]\n",
    "    return df"
   ]
  },
  {
   "cell_type": "markdown",
   "metadata": {},
   "source": [
    "Now you can run the next line to make your DataFrame."
   ]
  },
  {
   "cell_type": "code",
   "execution_count": 16,
   "metadata": {
    "collapsed": true
   },
   "outputs": [],
   "source": [
    "clinton_df = make_dataframe(clinton_tweets)"
   ]
  },
  {
   "cell_type": "code",
   "execution_count": 17,
   "metadata": {},
   "outputs": [
    {
     "data": {
      "text/html": [
       "<div>\n",
       "<style>\n",
       "    .dataframe thead tr:only-child th {\n",
       "        text-align: right;\n",
       "    }\n",
       "\n",
       "    .dataframe thead th {\n",
       "        text-align: left;\n",
       "    }\n",
       "\n",
       "    .dataframe tbody tr th {\n",
       "        vertical-align: top;\n",
       "    }\n",
       "</style>\n",
       "<table border=\"1\" class=\"dataframe\">\n",
       "  <thead>\n",
       "    <tr style=\"text-align: right;\">\n",
       "      <th></th>\n",
       "      <th>text</th>\n",
       "      <th>created_at</th>\n",
       "      <th>source</th>\n",
       "      <th>retweet_count</th>\n",
       "      <th>location</th>\n",
       "    </tr>\n",
       "  </thead>\n",
       "  <tbody>\n",
       "    <tr>\n",
       "      <th>0</th>\n",
       "      <td>After acts of unspeakable cruelty &amp;amp; cowardice, the people of London &amp;amp; the UK choose resolve over fear. Your friends… https://t.co/RGB99CERPo</td>\n",
       "      <td>2017-06-04 22:41:23</td>\n",
       "      <td>Twitter for iPhone</td>\n",
       "      <td>26802</td>\n",
       "      <td>New York, NY</td>\n",
       "    </tr>\n",
       "    <tr>\n",
       "      <th>1</th>\n",
       "      <td>Today we remember Hadiya, &amp;amp; all victims of gun violence. Proud of these young dynamos &amp;amp; all those committed to the… https://t.co/Hhp1lVF25Z</td>\n",
       "      <td>2017-06-03 03:08:26</td>\n",
       "      <td>Twitter for iPhone</td>\n",
       "      <td>4838</td>\n",
       "      <td>New York, NY</td>\n",
       "    </tr>\n",
       "    <tr>\n",
       "      <th>2</th>\n",
       "      <td>A historic mistake. The world is moving forward together on climate change. Paris withdrawal leaves American workers &amp;amp; families behind.</td>\n",
       "      <td>2017-06-01 23:38:34</td>\n",
       "      <td>Twitter for iPhone</td>\n",
       "      <td>59774</td>\n",
       "      <td>New York, NY</td>\n",
       "    </tr>\n",
       "    <tr>\n",
       "      <th>3</th>\n",
       "      <td>People in covfefe houses shouldn't throw covfefe. https://t.co/M7oK5Z6qwF</td>\n",
       "      <td>2017-06-01 01:30:20</td>\n",
       "      <td>Twitter for iPhone</td>\n",
       "      <td>317426</td>\n",
       "      <td>New York, NY</td>\n",
       "    </tr>\n",
       "    <tr>\n",
       "      <th>4</th>\n",
       "      <td>Going on stage now, watch live! https://t.co/kkhepdwIkK</td>\n",
       "      <td>2017-05-31 19:15:53</td>\n",
       "      <td>Twitter for iPhone</td>\n",
       "      <td>2449</td>\n",
       "      <td>New York, NY</td>\n",
       "    </tr>\n",
       "  </tbody>\n",
       "</table>\n",
       "</div>"
      ],
      "text/plain": [
       "                                                                                                                                                   text  \\\n",
       "0  After acts of unspeakable cruelty &amp; cowardice, the people of London &amp; the UK choose resolve over fear. Your friends… https://t.co/RGB99CERPo   \n",
       "1   Today we remember Hadiya, &amp; all victims of gun violence. Proud of these young dynamos &amp; all those committed to the… https://t.co/Hhp1lVF25Z   \n",
       "2           A historic mistake. The world is moving forward together on climate change. Paris withdrawal leaves American workers &amp; families behind.   \n",
       "3                                                                             People in covfefe houses shouldn't throw covfefe. https://t.co/M7oK5Z6qwF   \n",
       "4                                                                                               Going on stage now, watch live! https://t.co/kkhepdwIkK   \n",
       "\n",
       "           created_at              source  retweet_count      location  \n",
       "0 2017-06-04 22:41:23  Twitter for iPhone          26802  New York, NY  \n",
       "1 2017-06-03 03:08:26  Twitter for iPhone           4838  New York, NY  \n",
       "2 2017-06-01 23:38:34  Twitter for iPhone          59774  New York, NY  \n",
       "3 2017-06-01 01:30:20  Twitter for iPhone         317426  New York, NY  \n",
       "4 2017-05-31 19:15:53  Twitter for iPhone           2449  New York, NY  "
      ]
     },
     "execution_count": 17,
     "metadata": {},
     "output_type": "execute_result"
    }
   ],
   "source": [
    "# The next line causes Pandas to display all the characters\n",
    "# from each tweet when the table is printed, for more\n",
    "# convenient reading.  Comment it out if you don't want it.\n",
    "pd.set_option('display.max_colwidth', 150)\n",
    "\n",
    "clinton_df.head()"
   ]
  },
  {
   "cell_type": "code",
   "execution_count": 18,
   "metadata": {},
   "outputs": [
    {
     "name": "stdout",
     "output_type": "stream",
     "text": [
      "~~~~~~~~~~~~~~~~~~~~~~~~~~~~~~~~~~~~~~~~~~~~~~~~~~~~~~~~~~~~~~~~~~~~~\n",
      "Running tests\n",
      "\n",
      "---------------------------------------------------------------------\n",
      "Test summary\n",
      "    Passed: 1\n",
      "    Failed: 0\n",
      "[ooooooooook] 100.0% passed\n",
      "\n"
     ]
    }
   ],
   "source": [
    "_ = ok.grade('q05')"
   ]
  },
  {
   "cell_type": "markdown",
   "metadata": {},
   "source": [
    "## Tweetsourcing\n",
    "Now that the preliminaries are done, we can do what we set out to do: Try to distinguish between Clinton's own tweets and her aides'."
   ]
  },
  {
   "cell_type": "markdown",
   "metadata": {},
   "source": [
    "#### Question 6\n",
    "Create a plot showing how many tweets came from each kind of source.  For a real challenge, try using the Pandas documentation and Google to figure out how to do this.  Otherwise, hints are provided.\n",
    "\n",
    "*Hint:* Start by grouping the data by source.  `df['source'].value_counts()` will create an object called a Series (which is like a table that contains exactly 2 columns, where one column is called the *index*).  You can create a version of that Series that's sorted by source (in this case, in alphabetical order) by calling `sort_index()` on it.\n",
    "\n",
    "*Hint 2:* To generate a bar plot from a Series `s`, call `s.plot.barh()`.  You can also use `matplotlib`'s [`plt.barh`](http://matplotlib.org/api/pyplot_api.html#matplotlib.pyplot.barh), but it's a little bit complicated to use."
   ]
  },
  {
   "cell_type": "code",
   "execution_count": 19,
   "metadata": {},
   "outputs": [
    {
     "data": {
      "image/png": "[encoded data removed]",
      "text/plain": [
       "<matplotlib.figure.Figure at 0x11bd7d5f8>"
      ]
     },
     "metadata": {},
     "output_type": "display_data"
    }
   ],
   "source": [
    "clinton_df['source'].value_counts().sort_index().plot.barh();"
   ]
  },
  {
   "cell_type": "markdown",
   "metadata": {},
   "source": [
    "You should find that most tweets come from [TweetDeck](https://tweetdeck.twitter.com)."
   ]
  },
  {
   "cell_type": "markdown",
   "metadata": {},
   "source": [
    "#### Question 7\n",
    "Filter `clinton_df` to examine some tweets from TweetDeck and a few from the next-most-used platform.  From examining only a few tweets (say 10 from each category), can you tell whether Clinton's personal tweets are limited to one platform?\n",
    "\n",
    "*Hint:* If `df` is a DataFrame and `filter_array` is an array of booleans of the same length, then `df[filter_array]` is a new DataFrame containing only the rows in `df` corresponding to `True` values in `filter_array`."
   ]
  },
  {
   "cell_type": "code",
   "execution_count": 44,
   "metadata": {
    "for_assignment_type": "student"
   },
   "outputs": [
    {
     "name": "stdout",
     "output_type": "stream",
     "text": [
      "Scripture tells us: Let us not grow weary in doing good, for in due season, we shall reap, if we do not lose heart. https://t.co/snXfdLgZq8\n",
      "\"That’s what’s on the ballot this year. It’s not just my name and Donald Trump’s name. It’s our future. Our security. Our values.\" —Hillary\n",
      "Watch live: @POTUS hits the campaign trail for Hillary in Miami. https://t.co/lFWJRhSouE\n",
      "Americans deserve a real plan to expand access to health care and get costs down. https://t.co/6J5vpfTxhs #debate\n",
      "Tune in for a live conversation on making college affordable for all with Hillary and @BernieSanders at @UofNH → https://t.co/NQchsSkN8L\n",
      "\"We know who Donald is. For five years, he has led the birther movement to de-legitimize our first black president.” —Hillary\n",
      "One candidate would stand up for workers and their families. The other? Not so much. https://t.co/EtDBJgyNX7\n",
      "It’s not just that Trump doesn’t know what he’s talking about when it comes to national security. His words are dangerous, and they hurt us.\n",
      "Captain Khan and his family represent the best of America, and we salute them. https://t.co/MGeJXPF2DE\n",
      "We just put the biggest crack in that glass ceiling yet.” —Hillary https://t.co/mYkaLIv861\n",
      "Introducing ¡Hillary en español!, a new account to bring you the latest from this campaign in Spanish. Follow @Hillary_esp.\n",
      "RT @timkaine: Thinking about my daughter right now. No little girl will ever again have to wonder whether she, too, can be president. https…\n",
      "RT @TheBriefing2016: .@chucktodd: \"What is the status of the FBI investigation into the Clinton Foundation?\"\n",
      "\n",
      "@PeteWilliamsNBC: \"There real…\n",
      "RT @TheDemocrats: “Don't just tweet about my speech last week – if you liked that speech, then go vote.” –Michelle Obama \n",
      "\n",
      "Here’s how: http…\n",
      "I’m really concerned for North and South Carolinians dealing with such dangerous flooding. Please heed the latest warnings &amp; stay safe. -H\n",
      "RT @NRA: The choice is pretty simple... \n",
      " #VPDebate https://t.co/Xikq1GBdlm\n",
      "RT @AndrewJenks: I've been fortunate to meet young Americans from all over the country. We all make choices. This is mine...#iRegistered #L…\n",
      "RT @RevDrBarber: Not only is @realDonaldTrump wrong on birtherism, his words and policies are bad for Americans alive now and our children…\n",
      "RT @Hillary_esp: Hillary cree que la verdadera fuerza se encuentra en lo que hacemos por los demás. Vea nuestro nuevo anuncio. https://t.co…\n",
      "If you were president, how would you spend $4 billion? \n",
      " \n",
      "(One guess as to Trump's answer: https://t.co/9wj6zlbB7j)\n",
      "Why not carrier pigeons, @realDonaldTrump?\n",
      "https://t.co/lNrJcakpJW\n",
      "This is Trump's party. This could be Trump's America.\n",
      "\n",
      "Don't let it.\n",
      "https://t.co/SYniM00lPi\n"
     ]
    }
   ],
   "source": [
    "# Do your analysis, then write your conclusions in a brief comment.\n",
    "tweetdeck = clinton_df[clinton_df['source'] == 'TweetDeck']\n",
    "twc = clinton_df[clinton_df['source'] == 'Twitter Web Client']\n",
    "import numpy as np\n",
    "for index in np.arange(0, tweetdeck.shape[0], tweetdeck.shape[0] // 10, None):\n",
    "    print (tweetdeck.iloc[index]['text'])\n",
    "for index in np.arange(0, twc.shape[0], twc.shape[0] // 10, None):\n",
    "    print (twc.iloc[index]['text'])\n",
    "\n",
    "# Cannot really tell which is from true author by source"
   ]
  },
  {
   "cell_type": "markdown",
   "metadata": {},
   "source": [
    "## When in doubt, read...\n",
    "Check Hillary Clinton's [Twitter page](http://twitter.com/HillaryClinton).  It mentions an easy way to identify tweets by the candidate herself.  All other tweets are by her aides."
   ]
  },
  {
   "cell_type": "markdown",
   "metadata": {},
   "source": [
    "#### Question 8\n",
    "Write a function called `is_clinton` that takes a tweet (in JSON) as its argument and returns `True` for personal tweets by Clinton and `False` for tweets by her aides.  Use your function to create a column called `is_personal` in `clinton_df`.\n",
    "\n",
    "*Hint:* You might find the string method `endswith` helpful."
   ]
  },
  {
   "cell_type": "code",
   "execution_count": 45,
   "metadata": {
    "collapsed": true
   },
   "outputs": [],
   "source": [
    "def is_clinton(tweet):\n",
    "    \"\"\"Distinguishes between tweets by Clinton and tweets by her aides.\n",
    "    \n",
    "    Args:\n",
    "        tweet (Status): One tweet.\n",
    "    \n",
    "    Returns:\n",
    "        bool: True if the tweet is written by Clinton herself.\"\"\"\n",
    "    return extract_text(tweet).endswith(\"-H\")\n",
    "\n",
    "clinton_df['is_personal'] = [is_clinton(tweet) for tweet in clinton_tweets]"
   ]
  },
  {
   "cell_type": "markdown",
   "metadata": {},
   "source": [
    "Now we have identified Clinton's personal tweets.  Let us return to our analysis of sources and see if there was any pattern we could have found.\n",
    "\n",
    "You may recall that Tables from Data 8 have a method called `pivot`, which is useful for cross-classifying a dataset on two categorical attrbiutes.  DataFrames support a more complicated version of pivoting.  The cell below pivots `clinton_df` for you."
   ]
  },
  {
   "cell_type": "code",
   "execution_count": 46,
   "metadata": {},
   "outputs": [
    {
     "data": {
      "text/html": [
       "<div>\n",
       "<style>\n",
       "    .dataframe thead tr:only-child th {\n",
       "        text-align: right;\n",
       "    }\n",
       "\n",
       "    .dataframe thead th {\n",
       "        text-align: left;\n",
       "    }\n",
       "\n",
       "    .dataframe tbody tr th {\n",
       "        vertical-align: top;\n",
       "    }\n",
       "</style>\n",
       "<table border=\"1\" class=\"dataframe\">\n",
       "  <thead>\n",
       "    <tr style=\"text-align: right;\">\n",
       "      <th>is_personal</th>\n",
       "      <th>False</th>\n",
       "      <th>True</th>\n",
       "    </tr>\n",
       "    <tr>\n",
       "      <th>source</th>\n",
       "      <th></th>\n",
       "      <th></th>\n",
       "    </tr>\n",
       "  </thead>\n",
       "  <tbody>\n",
       "    <tr>\n",
       "      <th>Media Studio</th>\n",
       "      <td>207</td>\n",
       "      <td>0</td>\n",
       "    </tr>\n",
       "    <tr>\n",
       "      <th>TweetDeck</th>\n",
       "      <td>2373</td>\n",
       "      <td>30</td>\n",
       "    </tr>\n",
       "    <tr>\n",
       "      <th>Twitter Web Client</th>\n",
       "      <td>463</td>\n",
       "      <td>14</td>\n",
       "    </tr>\n",
       "    <tr>\n",
       "      <th>Twitter for iPhone</th>\n",
       "      <td>139</td>\n",
       "      <td>6</td>\n",
       "    </tr>\n",
       "  </tbody>\n",
       "</table>\n",
       "</div>"
      ],
      "text/plain": [
       "is_personal         False  True\n",
       "source                         \n",
       "Media Studio          207     0\n",
       "TweetDeck            2373    30\n",
       "Twitter Web Client    463    14\n",
       "Twitter for iPhone    139     6"
      ]
     },
     "execution_count": 46,
     "metadata": {},
     "output_type": "execute_result"
    }
   ],
   "source": [
    "# This cell is filled in for you; just run it and examine the output.\n",
    "def pivot_count(df, vertical_column, horizontal_column):\n",
    "    \"\"\"Cross-classifies df on two columns.\"\"\"\n",
    "    pivoted = pd.pivot_table(df[[vertical_column, horizontal_column]], index=[vertical_column], columns=[horizontal_column], aggfunc=len, fill_value=0)\n",
    "    return pivoted.rename(columns={False: \"False\", True: \"True\"})\n",
    "\n",
    "clinton_pivoted = pivot_count(clinton_df, 'source', 'is_personal')\n",
    "clinton_pivoted"
   ]
  },
  {
   "cell_type": "markdown",
   "metadata": {},
   "source": [
    "Do Clinton and her aides have different \"signatures\" of tweet sources?  That is, for each tweet they send, does Clinton send tweets from each source with roughly the same frequency as her aides?  It's a little hard to tell from the pivoted table alone."
   ]
  },
  {
   "cell_type": "markdown",
   "metadata": {},
   "source": [
    "#### Question 9\n",
    "Create a visualization to facilitate that comparison.\n",
    "\n",
    "*Hint:* `df.plot.barh` works for DataFrames, too.  But think about what data you want to plot."
   ]
  },
  {
   "cell_type": "code",
   "execution_count": 53,
   "metadata": {
    "for_assignment_type": "student"
   },
   "outputs": [
    {
     "name": "stdout",
     "output_type": "stream",
     "text": [
      "source\n",
      "Media Studio           207\n",
      "TweetDeck             2373\n",
      "Twitter Web Client     463\n",
      "Twitter for iPhone     139\n",
      "Name: False, dtype: int64\n",
      "3182\n",
      "source\n",
      "Media Studio           0\n",
      "TweetDeck             30\n",
      "Twitter Web Client    14\n",
      "Twitter for iPhone     6\n",
      "Name: True, dtype: int64\n",
      "50\n"
     ]
    },
    {
     "data": {
      "image/png": "[encoded data removed]",
      "text/plain": [
       "<matplotlib.figure.Figure at 0x11e956be0>"
      ]
     },
     "metadata": {},
     "output_type": "display_data"
    }
   ],
   "source": [
    "print (clinton_pivoted['False']) \n",
    "print (sum(clinton_pivoted['False']))\n",
    "print (clinton_pivoted['True']) \n",
    "print (sum(clinton_pivoted['True']))\n",
    "\n",
    "clinton_pivoted[\"aides\"] = clinton_pivoted['False'] / sum(clinton_pivoted['False'])\n",
    "clinton_pivoted[\"clinton\"] = clinton_pivoted['True'] / sum(clinton_pivoted['True'])\n",
    "clinton_pivoted[[\"aides\", \"clinton\"]].plot.barh();"
   ]
  },
  {
   "cell_type": "markdown",
   "metadata": {},
   "source": [
    "You should see that there are some differences, but they aren't large.  Do we need to worry that the differences (or lack thereof) are just \"due to chance\"?\n",
    "\n",
    "Statistician Ani argues as follows:\n",
    "\n",
    "> \"The tweets we see are not a random sample from anything.  We have simply gathered every tweet by @HillaryClinton from the last several months.  It is therefore meaningless to compute, for example, a confidence interval for the rate at which Clinton used TweetDeck.  We have calculated exactly that rate from the data we have.\"\n",
    "\n",
    "Statistician Belinda responds:\n",
    "\n",
    "> \"We are interested in whether Clinton and her aides *behave differently in general* with respect to Twitter client usage in a way that we could use to identify their tweets.  It's plausible to imagine that the tweets we see are a random sample from a huge unobserved population of all the tweets Clinton and her aides *might send*.  We must worry about error due to random chance when we draw conclusions about this population using only the data we have available.\""
   ]
  },
  {
   "cell_type": "markdown",
   "metadata": {},
   "source": [
    "#### Question 10\n",
    "What position would you take on this question?  Choose a side and give one (brief) argument for it, or argue for some third position."
   ]
  },
  {
   "cell_type": "markdown",
   "metadata": {},
   "source": [
    "*I would agree with Belinda's argument, as it is OK to investigate the data we have without assuming the data is a completely random sample.*"
   ]
  },
  {
   "cell_type": "markdown",
   "metadata": {},
   "source": [
    "#### Question 11\n",
    "Assume you are convinced by Belinda's argument.  Perform a statistical test of the null hypothesis that the Clinton and aide tweets' sources are all independent samples from the same distribution (that is, that the differences we observe are \"due to chance\").  Briefly describe the test methodology and report your results.\n",
    "\n",
    "*Hint:* If you need a refresher, [this section](https://www.inferentialthinking.com/chapters/16/1/two-categorical-distributions.html) of the Data 8 textbook from Fall 2016 covered this kind of hypothesis test.\n",
    "\n",
    "*Hint 2:* Feel free to use `datascience.Table` to answer this question.  However, it will be advantageous to learn how to do it with `numpy` alone.  In our solution, we used some `numpy` functions you might not be aware of: `np.append`, `np.random.permutation`, `np.bincount`, and `np.count_nonzero`.  We have provided the function `expand_counts`, which should help you solve a tricky problem that will arise."
   ]
  },
  {
   "cell_type": "code",
   "execution_count": null,
   "metadata": {
    "collapsed": true,
    "for_assignment_type": "student"
   },
   "outputs": [],
   "source": [
    "# Use this cell to perform your hypothesis test.\n",
    "\n",
    "# This function is provided for your convenience.  It's okay\n",
    "# if you don't use it.\n",
    "def expand_counts(source_counts):\n",
    "    \"\"\"'Blow up' a list/array of counts of categories into an array of\n",
    "    individuals matching the counts.  This is the inverse of np.bincount\n",
    "    (with some technical caveats: only if the order of the individuals\n",
    "    doesn't matter and each category has at least one count).\n",
    "    \n",
    "    For example, we can generate a list of two individuals of type 0,\n",
    "    four of type 1, zero of type 2, and one of type 3 as follows:\n",
    "    \n",
    "    >>> expand_counts([2, 4, 0, 1])\n",
    "    array([0, 0, 1, 1, 1, 1, 3])\"\"\"\n",
    "    return np.repeat(np.arange(len(source_counts)), source_counts)\n",
    "\n",
    "..."
   ]
  },
  {
   "cell_type": "markdown",
   "metadata": {},
   "source": [
    "*Write your answer here, replacing this text.*"
   ]
  },
  {
   "cell_type": "markdown",
   "metadata": {},
   "source": [
    "#### Question 12\n",
    "Suppose you sample a random @HillaryClinton tweet and find that it is from the Twitter Web Client.  Your visualization in question 9 should show you that Clinton tweets from this source about twice as frequently as her aides do, so you might imagine it's reasonable to predict that the tweet is by Clinton.  But what is the probability that the tweet is by Clinton?  (You should find a relatively small number.  Clinton's aides tweet much more than she does.  So even though there is a difference in their tweet source usage, it would be difficult to classify tweets this way.)\n",
    "\n",
    "*Hint:* Bayes' rule is covered in [this section](https://www.inferentialthinking.com/chapters/17/1/more-likely-than-not-binary-classifier.html) of the Data 8 textbook."
   ]
  },
  {
   "cell_type": "code",
   "execution_count": null,
   "metadata": {
    "collapsed": true
   },
   "outputs": [],
   "source": [
    "probability_clinton = ...\n",
    "probability_clinton"
   ]
  },
  {
   "cell_type": "code",
   "execution_count": null,
   "metadata": {
    "collapsed": true
   },
   "outputs": [],
   "source": [
    "_ = ok.grade('q12')\n",
    "_ = ok.backup()"
   ]
  },
  {
   "cell_type": "markdown",
   "metadata": {},
   "source": [
    "# Another candidate\n",
    "Our results so far aren't Earth-shattering.  Clinton uses different Twitter clients at slightly different rates than her aides.\n",
    "\n",
    "Now that we've categorized the tweets, we could of course investigate their contents.  A manual analysis (also known as \"reading\") might be interesting, but it is beyond the scope of this course.  And we'll have to wait a few more weeks before we can use a computer to help with such an analysis.\n",
    "\n",
    "Instead, let's repeat our analysis for Donald Trump."
   ]
  },
  {
   "cell_type": "markdown",
   "metadata": {},
   "source": [
    "#### Question 13\n",
    "Download the tweet data for Trump (@realDonaldTrump), and repeat the steps through question 6 to create a table called `trump_df`."
   ]
  },
  {
   "cell_type": "code",
   "execution_count": null,
   "metadata": {
    "collapsed": true
   },
   "outputs": [],
   "source": [
    "trump_tweets = ...\n",
    "trump_df = ..."
   ]
  },
  {
   "cell_type": "code",
   "execution_count": null,
   "metadata": {
    "collapsed": true
   },
   "outputs": [],
   "source": [
    "trump_df.head()"
   ]
  },
  {
   "cell_type": "markdown",
   "metadata": {},
   "source": [
    "#### Question 14\n",
    "Make a bar chart of the sources of Trump tweets."
   ]
  },
  {
   "cell_type": "code",
   "execution_count": null,
   "metadata": {
    "collapsed": true
   },
   "outputs": [],
   "source": [
    "..."
   ]
  },
  {
   "cell_type": "markdown",
   "metadata": {},
   "source": [
    "You should find two major sources of tweets.\n",
    "\n",
    "It is reported (for example, in [this Gawker article](http://gawker.com/our-trump-twitter-bot-filters-out-donald-trumps-new-han-1783906386)) that Trump himself uses an Android phone (a Samsung Galaxy), while his aides use iPhones.  But Trump has not confirmed this.  Also, he has reportedly [switched phones](http://indiatoday.intoday.in/technology/story/which-phone-will-president-donald-trump-use-a-blackberry-that-cant-even-click-pics/1/862350.html) since his inauguration!  How might we verify whether this is a way to identify his tweets?\n",
    "\n",
    "A retweet is a tweet that replies to (or simply repeats) a tweet by another user.  Twitter provides several mechanisms for this, as explained in [this article](https://blog.hubspot.com/blog/tabid/6307/bid/27675/How-to-Retweet-the-Right-Way-in-4-Easy-Steps.aspx#sm.00001bz3cbt3sqe1kyf4eavc4lj9a).  However, Trump has an unusual way of retweeting: He simply adds the original sender's name to the original message, puts everything in quotes, and then adds his own comments at the end.\n",
    "\n",
    "For example, this is a tweet by user @melissa7889:\n",
    "\n",
    "        @realDonaldTrump @JRACKER33 you should run for president!\n",
    "\n",
    "Here is Trump's retweet of this, from 2013:\n",
    "\n",
    "        \"@melissa7889: @realDonaldTrump @JRACKER33 you should run for president!\" Thanks,very nice!\n",
    "\n",
    "Since 2015, the usual way of retweeting this message, and the method used by Trump's aides (but not Trump himself), would have been:\n",
    "\n",
    "        Thanks,very nice! RT @melissa7889: @realDonaldTrump @JRACKER33 you should run for president!"
   ]
  },
  {
   "cell_type": "markdown",
   "metadata": {},
   "source": [
    "#### Question 15\n",
    "Write a function to identify Trump-style retweets, and another function to identify the aide-style retweets.  Then, use them to create a function called `tweet_type` that takes a tweet as its argument and returns values `\"Trump retweet\"`, `\"Aide retweet\"`, and `\"Not a retweet\"` as appropriate.  Use your function to add a `'tweet_type'` column to `trump_df`.\n",
    "\n",
    "*Hint:* Try the string method `startswith` and the Python keyword `in`."
   ]
  },
  {
   "cell_type": "code",
   "execution_count": null,
   "metadata": {
    "collapsed": true,
    "for_assignment_type": "student"
   },
   "outputs": [],
   "source": [
    "def is_trump_style_retweet(tweet_text):\n",
    "    \"\"\"Returns True if tweet_text looks like a Trump-style retweet.\"\"\"\n",
    "    ...\n",
    "    \n",
    "def is_aide_style_retweet(tweet_text):\n",
    "    \"\"\"Returns True if tweet_text looks like an aide-style retweet.\"\"\"\n",
    "    ...\n",
    "\n",
    "def tweet_type(tweet_text):\n",
    "    \"\"\"Returns \"Trump retweet\", \"Aide retweet\", or \"Not a retweet\"\n",
    "    as appropriate.\"\"\"\n",
    "    ...\n",
    "\n",
    "trump_df['tweet_type'] = ..."
   ]
  },
  {
   "cell_type": "code",
   "execution_count": null,
   "metadata": {
    "collapsed": true
   },
   "outputs": [],
   "source": [
    "trump_df"
   ]
  },
  {
   "cell_type": "code",
   "execution_count": null,
   "metadata": {
    "collapsed": true
   },
   "outputs": [],
   "source": [
    "_ = ok.grade('q15')\n",
    "_ = ok.backup()"
   ]
  },
  {
   "cell_type": "markdown",
   "metadata": {},
   "source": [
    "#### Question 16\n",
    "Cross-classify @realDonaldTrump tweets by `source` and by `tweet_type` into a table called `trump_pivoted`.\n",
    "\n",
    "*Hint:* We did something very similar after question 7.  You don't need to write much new code for this."
   ]
  },
  {
   "cell_type": "code",
   "execution_count": null,
   "metadata": {
    "collapsed": true
   },
   "outputs": [],
   "source": [
    "trump_pivoted = ...\n",
    "trump_pivoted"
   ]
  },
  {
   "cell_type": "code",
   "execution_count": null,
   "metadata": {
    "collapsed": true
   },
   "outputs": [],
   "source": [
    "_ = ok.grade('q16')\n",
    "_ = ok.backup()"
   ]
  },
  {
   "cell_type": "markdown",
   "metadata": {},
   "source": [
    "#### Question 17\n",
    "Does the cross-classified table show evidence against the hypothesis that Trump and his advisors tweet from roughly the same sources?  Again assuming you agree with Statistician Belinda, run an hypothesis test in the next cell to verify that there is a difference in the relevant distributions.  Then use the subsequent cell to describe your methodology and results.  Are there any important caveats?"
   ]
  },
  {
   "cell_type": "code",
   "execution_count": null,
   "metadata": {
    "collapsed": true
   },
   "outputs": [],
   "source": [
    "..."
   ]
  },
  {
   "cell_type": "markdown",
   "metadata": {},
   "source": [
    "*Write your answer here, replacing this text.*"
   ]
  },
  {
   "cell_type": "markdown",
   "metadata": {},
   "source": [
    "We are really interested in knowing whether we can classify @realDonaldTrump tweets on the basis of the source.  Just knowing that there is a difference in source distributions isn't nearly enough.  Instead, we would like to claim something like this: \"@realDonaldTrump tweets from Twitter for Android are generally authored by Trump himself.  Other tweets are generally authored by his aides.\"\n",
    "\n",
    "#### Question 18\n",
    "If you use bootstrap methods to compute a confidence interval for the proportion of Trump aide retweets from Android phones in \"the population of all @realDonaldTrump retweets,\" you will find that the interval is [0, 0].  That's because there are no retweets from Android phones by Trump aides in our dataset.  Is it reasonable to conclude from this that Trump aides definitely never tweet from Android phones?"
   ]
  },
  {
   "cell_type": "markdown",
   "metadata": {},
   "source": [
    "*Write your answer here, replacing this text.*"
   ]
  },
  {
   "cell_type": "markdown",
   "metadata": {},
   "source": [
    "# Submitting your assignment\n",
    "First, run the next cell to run all the tests at once."
   ]
  },
  {
   "cell_type": "code",
   "execution_count": null,
   "metadata": {
    "collapsed": true
   },
   "outputs": [],
   "source": [
    "_ = ok.grade_all()"
   ]
  },
  {
   "cell_type": "markdown",
   "metadata": {},
   "source": [
    "Now, run this code in your terminal to make a\n",
    "[git commit](https://www.atlassian.com/git/tutorials/saving-changes/git-commit)\n",
    "that saves a snapshot of your changes in `git`. The last line of the cell\n",
    "runs [git push](http://stackoverflow.com/questions/2745076/what-are-the-differences-between-git-commit-and-git-push), which will send your work to your personal Github repo.\n",
    "\n",
    "**Note:** Don't add and commit your `keys.json` file!  `git add -A` will do that, but the code we've written below won't.\n",
    "\n",
    "    # Tell git to commit your changes to this notebook\n",
    "    git add sp17/hw/hw2/hw2.ipynb\n",
    "    \n",
    "    # Tell git to make the commit\n",
    "    git commit -m \"hw2 finished\"\n",
    "    \n",
    "    # Send your updates to your personal private repo\n",
    "    git push origin master\n",
    "\n",
    "Finally, we'll submit the assignment to OkPy so that the staff will know to grade it. You can submit as many times as you want, and you can choose which submission you want us to grade by going to https://okpy.org/cal/data100/sp17/."
   ]
  },
  {
   "cell_type": "code",
   "execution_count": null,
   "metadata": {
    "collapsed": true
   },
   "outputs": [],
   "source": [
    "# Now, we'll submit to okpy\n",
    "_ = ok.submit()"
   ]
  },
  {
   "cell_type": "markdown",
   "metadata": {},
   "source": [
    "Congratulations, you're done!\n",
    "\n",
    "We've only scratched the surface of this dataset.  Twitter is a rich source of data about language and social interaction, and not only for political figures.  Now you know how to access it!"
   ]
  }
 ],
 "metadata": {
  "anaconda-cloud": {},
  "kernelspec": {
   "display_name": "Python 3",
   "language": "python",
   "name": "python3"
  },
  "language_info": {
   "codemirror_mode": {
    "name": "ipython",
    "version": 3
   },
   "file_extension": ".py",
   "mimetype": "text/x-python",
   "name": "python",
   "nbconvert_exporter": "python",
   "pygments_lexer": "ipython3",
   "version": "3.5.3"
  }
 },
 "nbformat": 4,
 "nbformat_minor": 1
}
